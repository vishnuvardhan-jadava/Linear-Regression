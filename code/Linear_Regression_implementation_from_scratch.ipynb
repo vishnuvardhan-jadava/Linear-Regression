{
 "cells": [
  {
   "cell_type": "markdown",
   "id": "d781aa29",
   "metadata": {},
   "source": [
    "### I am going to implement a Simple Linear regression(one feature of x) for a sample dataset. After doing the derivation for \n",
    "\n",
    "F = $(y-mx-b)^2$, with respect to both m(slope), b(intercept), \n",
    "\n",
    "### I got slope = $\\frac{(x_i - \\bar{x})^2 \\cdot (y_i - \\bar{y})^2}{(x_i - \\bar{x})^2}$ and intercept = $\\bar{y} - slope*\\bar{x} $\n"
   ]
  },
  {
   "cell_type": "markdown",
   "id": "ed92f176",
   "metadata": {},
   "source": [
    "# importing libraries"
   ]
  },
  {
   "cell_type": "code",
   "execution_count": 1,
   "id": "92ba6612",
   "metadata": {},
   "outputs": [],
   "source": [
    "import numpy as np\n",
    "import pandas as pd\n",
    "import matplotlib.pyplot as plt\n",
    "\n",
    "%matplotlib inline"
   ]
  },
  {
   "cell_type": "code",
   "execution_count": 2,
   "id": "39d5c59e",
   "metadata": {},
   "outputs": [],
   "source": [
    "class My_Linear_Regression:\n",
    "    \"\"\"Simple Linear Regression class. For one feature and y_label\"\"\"\n",
    "    def __init__(self):\n",
    "        self.slope = 0\n",
    "        self.intercept = 0\n",
    "    \n",
    "    def fit(self,x_train,y_train):\n",
    "        \"\"\"fit:\n",
    "        \ttakes two inputs\n",
    "            x_train: train dataset with independent feaure\n",
    "            y_train: dependent train feature\n",
    "        \"\"\"\n",
    "        num = 0\n",
    "        den = 0\n",
    "        \n",
    "        for i in range(len(x_train)):\n",
    "            num += (x_train[i]-x_train.mean())*(y_train[i]-y_train.mean())\n",
    "            den += (x_train[i]-x_train.mean())**2\n",
    "            \n",
    "        self.slope = num/den\n",
    "        self.intercept = y_train.mean() - self.slope*x_train.mean()\n",
    "     \n",
    "    def predict(self,x_test):\n",
    "        \"\"\"predict:\n",
    "        \ttakes two inputs\n",
    "            x_test: test dataset with independent feaure\n",
    "          \treturns: predicted y value\n",
    "        \"\"\"\n",
    "        return self.slope*x_test + self.intercept"
   ]
  },
  {
   "cell_type": "code",
   "execution_count": 3,
   "id": "1a76d5ed",
   "metadata": {},
   "outputs": [],
   "source": [
    "placement = pd.read_csv('placement.csv')"
   ]
  },
  {
   "cell_type": "code",
   "execution_count": 4,
   "id": "9def256d",
   "metadata": {},
   "outputs": [
    {
     "data": {
      "text/html": [
       "<div>\n",
       "<style scoped>\n",
       "    .dataframe tbody tr th:only-of-type {\n",
       "        vertical-align: middle;\n",
       "    }\n",
       "\n",
       "    .dataframe tbody tr th {\n",
       "        vertical-align: top;\n",
       "    }\n",
       "\n",
       "    .dataframe thead th {\n",
       "        text-align: right;\n",
       "    }\n",
       "</style>\n",
       "<table border=\"1\" class=\"dataframe\">\n",
       "  <thead>\n",
       "    <tr style=\"text-align: right;\">\n",
       "      <th></th>\n",
       "      <th>cgpa</th>\n",
       "      <th>package</th>\n",
       "    </tr>\n",
       "  </thead>\n",
       "  <tbody>\n",
       "    <tr>\n",
       "      <th>0</th>\n",
       "      <td>6.89</td>\n",
       "      <td>3.26</td>\n",
       "    </tr>\n",
       "    <tr>\n",
       "      <th>1</th>\n",
       "      <td>5.12</td>\n",
       "      <td>1.98</td>\n",
       "    </tr>\n",
       "    <tr>\n",
       "      <th>2</th>\n",
       "      <td>7.82</td>\n",
       "      <td>3.25</td>\n",
       "    </tr>\n",
       "    <tr>\n",
       "      <th>3</th>\n",
       "      <td>7.42</td>\n",
       "      <td>3.67</td>\n",
       "    </tr>\n",
       "    <tr>\n",
       "      <th>4</th>\n",
       "      <td>6.94</td>\n",
       "      <td>3.57</td>\n",
       "    </tr>\n",
       "  </tbody>\n",
       "</table>\n",
       "</div>"
      ],
      "text/plain": [
       "   cgpa  package\n",
       "0  6.89     3.26\n",
       "1  5.12     1.98\n",
       "2  7.82     3.25\n",
       "3  7.42     3.67\n",
       "4  6.94     3.57"
      ]
     },
     "execution_count": 4,
     "metadata": {},
     "output_type": "execute_result"
    }
   ],
   "source": [
    "placement.head()"
   ]
  },
  {
   "cell_type": "code",
   "execution_count": 5,
   "id": "56fd849d",
   "metadata": {},
   "outputs": [
    {
     "data": {
      "text/plain": [
       "(200, 2)"
      ]
     },
     "execution_count": 5,
     "metadata": {},
     "output_type": "execute_result"
    }
   ],
   "source": [
    "placement.shape"
   ]
  },
  {
   "cell_type": "code",
   "execution_count": 6,
   "id": "cc9dd34a",
   "metadata": {},
   "outputs": [
    {
     "data": {
      "image/png": "[encoded data removed]",
      "text/plain": [
       "<Figure size 640x480 with 1 Axes>"
      ]
     },
     "metadata": {},
     "output_type": "display_data"
    }
   ],
   "source": [
    "plt.scatter(placement['cgpa'],placement['package'])\n",
    "plt.show()"
   ]
  },
  {
   "cell_type": "code",
   "execution_count": 7,
   "id": "73ddc1c3",
   "metadata": {},
   "outputs": [],
   "source": [
    "from sklearn.model_selection import train_test_split"
   ]
  },
  {
   "cell_type": "code",
   "execution_count": 8,
   "id": "a919d2ab",
   "metadata": {},
   "outputs": [],
   "source": [
    "areas_x = placement.iloc[:,0].values\n",
    "areas_y = placement.iloc[:,1].values"
   ]
  },
  {
   "cell_type": "code",
   "execution_count": 9,
   "id": "5f44acc4",
   "metadata": {},
   "outputs": [],
   "source": [
    "x_train, x_test, y_train, y_test = train_test_split(areas_x,areas_y,test_size=0.2,random_state=2)"
   ]
  },
  {
   "cell_type": "code",
   "execution_count": 10,
   "id": "9fff853e",
   "metadata": {},
   "outputs": [],
   "source": [
    "lr = My_Linear_Regression()"
   ]
  },
  {
   "cell_type": "code",
   "execution_count": 11,
   "id": "14b529f9",
   "metadata": {},
   "outputs": [],
   "source": [
    "lr.fit(x_train,y_train)"
   ]
  },
  {
   "cell_type": "code",
   "execution_count": 12,
   "id": "8af19402",
   "metadata": {},
   "outputs": [
    {
     "data": {
      "text/plain": [
       "0.5579519734250721"
      ]
     },
     "execution_count": 12,
     "metadata": {},
     "output_type": "execute_result"
    }
   ],
   "source": [
    "lr.slope"
   ]
  },
  {
   "cell_type": "code",
   "execution_count": 13,
   "id": "5c54ff57",
   "metadata": {},
   "outputs": [
    {
     "data": {
      "text/plain": [
       "-0.8961119222429152"
      ]
     },
     "execution_count": 13,
     "metadata": {},
     "output_type": "execute_result"
    }
   ],
   "source": [
    "lr.intercept"
   ]
  },
  {
   "cell_type": "code",
   "execution_count": 22,
   "id": "f459a318",
   "metadata": {},
   "outputs": [
    {
     "data": {
      "image/png": "[encoded data removed]",
      "text/plain": [
       "<Figure size 640x480 with 1 Axes>"
      ]
     },
     "metadata": {},
     "output_type": "display_data"
    }
   ],
   "source": [
    "plt.scatter(placement['cgpa'],placement['package'])\n",
    "plt.plot(x_train,lr.predict(x_train),color='g')\n",
    "plt.show()"
   ]
  },
  {
   "cell_type": "code",
   "execution_count": 15,
   "id": "05699d67",
   "metadata": {},
   "outputs": [
    {
     "name": "stdout",
     "output_type": "stream",
     "text": [
      "actual: 4.1\tPredicted: 3.89\t error: 0.21: \n",
      "actual: 3.49\tPredicted: 3.09\t error: 0.4: \n",
      "actual: 2.08\tPredicted: 2.38\t error: -0.3: \n",
      "actual: 2.33\tPredicted: 2.57\t error: -0.24: \n",
      "actual: 1.94\tPredicted: 1.65\t error: 0.29: \n",
      "actual: 1.48\tPredicted: 1.78\t error: -0.3: \n",
      "actual: 1.86\tPredicted: 2.07\t error: -0.21: \n",
      "actual: 3.09\tPredicted: 2.93\t error: 0.16: \n",
      "actual: 4.21\tPredicted: 3.76\t error: 0.45: \n",
      "actual: 2.87\tPredicted: 2.94\t error: -0.07: \n",
      "actual: 3.65\tPredicted: 4.09\t error: -0.44: \n",
      "actual: 4.0\tPredicted: 3.51\t error: 0.49: \n",
      "actual: 2.89\tPredicted: 2.97\t error: -0.08: \n",
      "actual: 2.6\tPredicted: 2.4\t error: 0.2: \n",
      "actual: 2.99\tPredicted: 3.19\t error: -0.2: \n",
      "actual: 3.25\tPredicted: 3.47\t error: -0.22: \n",
      "actual: 1.86\tPredicted: 1.94\t error: -0.08: \n",
      "actual: 3.67\tPredicted: 3.24\t error: 0.43: \n",
      "actual: 2.37\tPredicted: 2.98\t error: -0.61: \n",
      "actual: 3.42\tPredicted: 3.42\t error: 0.0: \n",
      "actual: 2.48\tPredicted: 2.56\t error: -0.08: \n",
      "actual: 3.65\tPredicted: 3.17\t error: 0.48: \n",
      "actual: 2.6\tPredicted: 2.86\t error: -0.26: \n",
      "actual: 2.83\tPredicted: 3.12\t error: -0.29: \n",
      "actual: 4.08\tPredicted: 3.68\t error: 0.4: \n",
      "actual: 2.56\tPredicted: 2.87\t error: -0.31: \n",
      "actual: 3.58\tPredicted: 3.49\t error: 0.09: \n",
      "actual: 3.81\tPredicted: 3.34\t error: 0.47: \n",
      "actual: 4.09\tPredicted: 3.92\t error: 0.17: \n",
      "actual: 2.01\tPredicted: 1.96\t error: 0.05: \n",
      "actual: 3.63\tPredicted: 3.65\t error: -0.02: \n",
      "actual: 2.92\tPredicted: 3.21\t error: -0.29: \n",
      "actual: 3.51\tPredicted: 3.74\t error: -0.23: \n",
      "actual: 1.94\tPredicted: 2.79\t error: -0.85: \n",
      "actual: 2.21\tPredicted: 2.78\t error: -0.57: \n",
      "actual: 3.34\tPredicted: 3.27\t error: 0.07: \n",
      "actual: 3.34\tPredicted: 3.53\t error: -0.19: \n",
      "actual: 3.23\tPredicted: 2.61\t error: 0.62: \n",
      "actual: 2.01\tPredicted: 2.66\t error: -0.65: \n",
      "actual: 2.61\tPredicted: 2.71\t error: -0.1: \n"
     ]
    }
   ],
   "source": [
    "for i in range(len(x_test)):\n",
    "    actual = y_test[i]\n",
    "    pred = round(lr.predict(x_test[i]), 2)\n",
    "    print('actual: {}\\tPredicted: {}\\t error: {}: '.format(actual,pred,round((actual-pred),2)))"
   ]
  }
 ],
 "metadata": {
  "kernelspec": {
   "display_name": "Python 3 (ipykernel)",
   "language": "python",
   "name": "python3"
  },
  "language_info": {
   "codemirror_mode": {
    "name": "ipython",
    "version": 3
   },
   "file_extension": ".py",
   "mimetype": "text/x-python",
   "name": "python",
   "nbconvert_exporter": "python",
   "pygments_lexer": "ipython3",
   "version": "3.9.13"
  }
 },
 "nbformat": 4,
 "nbformat_minor": 5
}
